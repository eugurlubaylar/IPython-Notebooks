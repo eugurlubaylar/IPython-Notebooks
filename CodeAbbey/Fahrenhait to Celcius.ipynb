{
 "cells": [
  {
   "cell_type": "code",
   "execution_count": 1,
   "metadata": {
    "collapsed": true
   },
   "outputs": [],
   "source": [
    "Fah = \"32 435 600 323 127 274 195 399 148 286 356 119 194 189 296 429 471 198 386 504 218 359 382 594 421 127 564 552 444 455 570 564 289\""
   ]
  },
  {
   "cell_type": "code",
   "execution_count": 12,
   "metadata": {
    "collapsed": true
   },
   "outputs": [],
   "source": [
    "listFah = Fah[3:].split()"
   ]
  },
  {
   "cell_type": "code",
   "execution_count": 13,
   "metadata": {
    "collapsed": false
   },
   "outputs": [
    {
     "data": {
      "text/plain": [
       "['435',\n",
       " '600',\n",
       " '323',\n",
       " '127',\n",
       " '274',\n",
       " '195',\n",
       " '399',\n",
       " '148',\n",
       " '286',\n",
       " '356',\n",
       " '119',\n",
       " '194',\n",
       " '189',\n",
       " '296',\n",
       " '429',\n",
       " '471',\n",
       " '198',\n",
       " '386',\n",
       " '504',\n",
       " '218',\n",
       " '359',\n",
       " '382',\n",
       " '594',\n",
       " '421',\n",
       " '127',\n",
       " '564',\n",
       " '552',\n",
       " '444',\n",
       " '455',\n",
       " '570',\n",
       " '564',\n",
       " '289']"
      ]
     },
     "execution_count": 13,
     "metadata": {},
     "output_type": "execute_result"
    }
   ],
   "source": [
    "listFah"
   ]
  },
  {
   "cell_type": "code",
   "execution_count": 19,
   "metadata": {
    "collapsed": false
   },
   "outputs": [
    {
     "name": "stdout",
     "output_type": "stream",
     "text": [
      "224 316 162 53 134 91 204 64 141 180 48 90 87 147 221 244 92 197 262 103 182 194 312 216 53 296 289 229 235 299 296 143 "
     ]
    }
   ],
   "source": [
    "for i in range(len(listFah)):\n",
    "    print(round((int(listFah[i]) - 32) * (5 / 9)), end = \" \")"
   ]
  },
  {
   "cell_type": "code",
   "execution_count": null,
   "metadata": {
    "collapsed": true
   },
   "outputs": [],
   "source": []
  },
  {
   "cell_type": "code",
   "execution_count": null,
   "metadata": {
    "collapsed": true
   },
   "outputs": [],
   "source": []
  }
 ],
 "metadata": {
  "kernelspec": {
   "display_name": "Python 3",
   "language": "python",
   "name": "python3"
  },
  "language_info": {
   "codemirror_mode": {
    "name": "ipython",
    "version": 3
   },
   "file_extension": ".py",
   "mimetype": "text/x-python",
   "name": "python",
   "nbconvert_exporter": "python",
   "pygments_lexer": "ipython3",
   "version": "3.5.1"
  }
 },
 "nbformat": 4,
 "nbformat_minor": 0
}
