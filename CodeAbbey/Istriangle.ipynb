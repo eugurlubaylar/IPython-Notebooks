{
 "cells": [
  {
   "cell_type": "code",
   "execution_count": 21,
   "metadata": {
    "collapsed": true
   },
   "outputs": [],
   "source": [
    "lst = [[1356, 999, 2366],\n",
    "[1807, 931, 2333],\n",
    "[712, 668, 361],\n",
    "[431, 172, 201],\n",
    "[258, 766, 307],\n",
    "[904, 1208, 1893],\n",
    "[947, 2112, 1801],\n",
    "[279, 624, 205],\n",
    "[778, 316, 197],\n",
    "[752, 2192, 928],\n",
    "[436, 1088, 262],\n",
    "[1358, 889, 831],\n",
    "[520, 225, 199],\n",
    "[783, 2525, 1052],\n",
    "[357, 258, 152],\n",
    "[1752, 997, 1965],\n",
    "[974, 897, 2303],\n",
    "[2369, 1580, 932],\n",
    "[534, 519, 374],\n",
    "[631, 2981, 1224],\n",
    "[650, 1028, 1362],\n",
    "[453, 291, 156],\n",
    "[654, 1541, 674],\n",
    "[207, 574, 300],\n",
    "[545, 1125, 958],\n",
    "[757, 836, 1935]]"
   ]
  },
  {
   "cell_type": "code",
   "execution_count": 22,
   "metadata": {
    "collapsed": false
   },
   "outputs": [
    {
     "data": {
      "text/plain": [
       "[1356, 999, 2366]"
      ]
     },
     "execution_count": 22,
     "metadata": {},
     "output_type": "execute_result"
    }
   ],
   "source": [
    "lst[0]"
   ]
  },
  {
   "cell_type": "code",
   "execution_count": 23,
   "metadata": {
    "collapsed": true
   },
   "outputs": [],
   "source": [
    "def triangle(a, b, c):\n",
    "    if a + b > c:\n",
    "        return 1\n",
    "    else:\n",
    "        return 0"
   ]
  },
  {
   "cell_type": "code",
   "execution_count": 14,
   "metadata": {
    "collapsed": false
   },
   "outputs": [],
   "source": [
    "lst[0].sort()\n"
   ]
  },
  {
   "cell_type": "code",
   "execution_count": 15,
   "metadata": {
    "collapsed": false
   },
   "outputs": [
    {
     "data": {
      "text/plain": [
       "[908, 1234, 1619]"
      ]
     },
     "execution_count": 15,
     "metadata": {},
     "output_type": "execute_result"
    }
   ],
   "source": [
    "lst[0]"
   ]
  },
  {
   "cell_type": "code",
   "execution_count": 24,
   "metadata": {
    "collapsed": false
   },
   "outputs": [
    {
     "name": "stdout",
     "output_type": "stream",
     "text": [
      "0 1 1 0 0 1 1 0 0 0 0 1 0 0 1 1 0 1 1 0 1 0 0 0 1 0 "
     ]
    }
   ],
   "source": [
    "for i in range(len(lst)):\n",
    "    lst[i].sort()\n",
    "    isTriangle = triangle(lst[i][0], lst[i][1], lst[i][2])\n",
    "    print(isTriangle, end = \" \")\n",
    "    "
   ]
  },
  {
   "cell_type": "code",
   "execution_count": null,
   "metadata": {
    "collapsed": true
   },
   "outputs": [],
   "source": []
  }
 ],
 "metadata": {
  "kernelspec": {
   "display_name": "Python 3",
   "language": "python",
   "name": "python3"
  },
  "language_info": {
   "codemirror_mode": {
    "name": "ipython",
    "version": 3
   },
   "file_extension": ".py",
   "mimetype": "text/x-python",
   "name": "python",
   "nbconvert_exporter": "python",
   "pygments_lexer": "ipython3",
   "version": "3.5.1"
  }
 },
 "nbformat": 4,
 "nbformat_minor": 0
}
