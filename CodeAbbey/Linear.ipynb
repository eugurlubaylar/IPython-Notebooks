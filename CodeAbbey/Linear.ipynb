{
 "cells": [
  {
   "cell_type": "code",
   "execution_count": null,
   "metadata": {
    "collapsed": true
   },
   "outputs": [],
   "source": [
    "answer = []\n",
    "def find_slope(a, b, c, d):\n",
    "    return (d - b) / (c -a)\n",
    "    \n",
    "def find_intercept(a, b, m):\n",
    "    return (b - m * a)\n",
    "    \n",
    "def linear_function():\n",
    "    \n",
    "    test_cases = input()\n",
    "    a, b, c, d = [int(x) for x in test_cases.split()]\n",
    "    m = int(find_slope(a, b, c, d))\n",
    "    g = int(find_intercept(a, b, m))\n",
    "    answer.append(\"({0} {1})\".format(m, g))\n",
    "    return(' '.join(answer))\n",
    "    \n",
    "for i in range(11):\n",
    "    linear_function()\n",
    "    \n",
    "print(* answer, end = \" \")"
   ]
  }
 ],
 "metadata": {
  "kernelspec": {
   "display_name": "Python 3",
   "language": "python",
   "name": "python3"
  },
  "language_info": {
   "codemirror_mode": {
    "name": "ipython",
    "version": 3
   },
   "file_extension": ".py",
   "mimetype": "text/x-python",
   "name": "python",
   "nbconvert_exporter": "python",
   "pygments_lexer": "ipython3",
   "version": "3.5.1"
  }
 },
 "nbformat": 4,
 "nbformat_minor": 0
}
