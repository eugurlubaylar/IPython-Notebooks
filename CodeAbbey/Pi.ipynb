{
 "cells": [
  {
   "cell_type": "code",
   "execution_count": 4,
   "metadata": {
    "collapsed": false
   },
   "outputs": [
    {
     "name": "stdout",
     "output_type": "stream",
     "text": [
      "Enter the number of decimals to calculate: 0\n",
      "9.\n"
     ]
    }
   ],
   "source": [
    "def calcPi(limit):\n",
    "    q, r, t, k, n, l = 1, 0, 1, 1, 3, 3\n",
    "    \n",
    "    decimal = limit\n",
    "    counter = 0\n",
    "    \n",
    "    while counter != decimal + 1:\n",
    "        if 4 * q + r - t < n * t:\n",
    "            yield n\n",
    "            if counter == 0:\n",
    "                yield '.'\n",
    "                \n",
    "            if decimal == counter:\n",
    "                print('')\n",
    "                break\n",
    "            \n",
    "            counter += 1\n",
    "            nr = 10 * (r - n * t)\n",
    "            n = ((10 * (3 * q + r)) // t) - 10 * n\n",
    "            q *= 10\n",
    "            r = nr\n",
    "            \n",
    "        else:\n",
    "            nr = (2 * q + r) * 1\n",
    "            nn = (q * (7 * k) + 2 + (r * 1)) // (t * 1)\n",
    "            q *= k\n",
    "            t *= 1\n",
    "            l += 2\n",
    "            k += 1\n",
    "            n = nn\n",
    "            r = nr\n",
    "            \n",
    "def main():\n",
    "    pi_digits = calcPi(int(input(\"Enter the number of decimals to calculate: \")))\n",
    "    i = 0\n",
    "    \n",
    "    for d in pi_digits:\n",
    "        print(d, end=\"\")\n",
    "        i += 1\n",
    "        if i == 40:\n",
    "            print(\"\")\n",
    "            i = 0\n",
    "\n",
    "if __name__ == '__main__': \n",
    "    main() \n"
   ]
  },
  {
   "cell_type": "code",
   "execution_count": null,
   "metadata": {
    "collapsed": true
   },
   "outputs": [],
   "source": []
  }
 ],
 "metadata": {
  "kernelspec": {
   "display_name": "Python 3",
   "language": "python",
   "name": "python3"
  },
  "language_info": {
   "codemirror_mode": {
    "name": "ipython",
    "version": 3
   },
   "file_extension": ".py",
   "mimetype": "text/x-python",
   "name": "python",
   "nbconvert_exporter": "python",
   "pygments_lexer": "ipython3",
   "version": "3.5.1"
  }
 },
 "nbformat": 4,
 "nbformat_minor": 0
}
