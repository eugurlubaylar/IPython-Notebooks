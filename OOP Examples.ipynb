{
 "cells": [
  {
   "cell_type": "code",
   "execution_count": 6,
   "metadata": {
    "collapsed": true
   },
   "outputs": [],
   "source": [
    "class Customer(object):\n",
    "    \"\"\"A customer of ABC Bank with a checking account. Customers have the\n",
    "    following properties:\n",
    "    \n",
    "    Attributes:\n",
    "        name: A string representing the customer's name.\n",
    "        balance: A float tracking the current balance of the customer's\n",
    "    account.\n",
    "    \"\"\"\n",
    "    \n",
    "    def __init__(self, name, balance = 0.0):\n",
    "        \"\"\"Return a Customer object whose name is \"name\" and starting\n",
    "        balance is \"balance\".\n",
    "        \"\"\"\n",
    "        self.name = name\n",
    "        self.balance = balance\n",
    "        \n",
    "    def withdraw(self, amount):\n",
    "        \"\"\"Return the balance remaining after withdrawing \"amount\" \n",
    "        dollars\"\"\"\n",
    "        if amount > self.balance:\n",
    "            raise RuntimeError(\"Amount is greater than available balance.\")\n",
    "        self.balance -= amount\n",
    "        return self.balance\n",
    "    \n",
    "    def deposit(self, amount):\n",
    "        \"\"\"Return the balance remaining after depositing \"amount\"\n",
    "        dollars.\"\"\"\n",
    "        self.balance += amount\n",
    "        return self.balance"
   ]
  },
  {
   "cell_type": "code",
   "execution_count": 7,
   "metadata": {
    "collapsed": false
   },
   "outputs": [],
   "source": [
    "c1 = Customer(\"john doe\", 1000.0)"
   ]
  },
  {
   "cell_type": "code",
   "execution_count": 8,
   "metadata": {
    "collapsed": false
   },
   "outputs": [
    {
     "data": {
      "text/plain": [
       "'john doe'"
      ]
     },
     "execution_count": 8,
     "metadata": {},
     "output_type": "execute_result"
    }
   ],
   "source": [
    "c1.name"
   ]
  },
  {
   "cell_type": "code",
   "execution_count": 10,
   "metadata": {
    "collapsed": false
   },
   "outputs": [
    {
     "data": {
      "text/plain": [
       "1000.0"
      ]
     },
     "execution_count": 10,
     "metadata": {},
     "output_type": "execute_result"
    }
   ],
   "source": [
    "c1.balance"
   ]
  },
  {
   "cell_type": "code",
   "execution_count": 11,
   "metadata": {
    "collapsed": false
   },
   "outputs": [
    {
     "data": {
      "text/plain": [
       "1300.0"
      ]
     },
     "execution_count": 11,
     "metadata": {},
     "output_type": "execute_result"
    }
   ],
   "source": [
    "c1.deposit(300)"
   ]
  },
  {
   "cell_type": "code",
   "execution_count": 12,
   "metadata": {
    "collapsed": false
   },
   "outputs": [
    {
     "data": {
      "text/plain": [
       "700.0"
      ]
     },
     "execution_count": 12,
     "metadata": {},
     "output_type": "execute_result"
    }
   ],
   "source": [
    "c1.withdraw(600)"
   ]
  },
  {
   "cell_type": "code",
   "execution_count": 25,
   "metadata": {
    "collapsed": true
   },
   "outputs": [],
   "source": [
    "class Car(object):\n",
    "    \n",
    "    wheels = 4\n",
    "    \n",
    "    def __init__(self, make, model):\n",
    "        self.make = make\n",
    "        self.model = model\n",
    "    \n",
    "    @staticmethod\n",
    "    def make_car_sound():\n",
    "        print(\"VRoooooommmmmm\")"
   ]
  },
  {
   "cell_type": "code",
   "execution_count": 26,
   "metadata": {
    "collapsed": true
   },
   "outputs": [],
   "source": [
    "mustang = Car(\"Ford\", \"Mustang\")"
   ]
  },
  {
   "cell_type": "code",
   "execution_count": 27,
   "metadata": {
    "collapsed": false
   },
   "outputs": [
    {
     "name": "stdout",
     "output_type": "stream",
     "text": [
      "4\n"
     ]
    }
   ],
   "source": [
    "print(mustang.wheels)"
   ]
  },
  {
   "cell_type": "code",
   "execution_count": 28,
   "metadata": {
    "collapsed": false
   },
   "outputs": [
    {
     "name": "stdout",
     "output_type": "stream",
     "text": [
      "4\n"
     ]
    }
   ],
   "source": [
    "print(Car.wheels)"
   ]
  },
  {
   "cell_type": "code",
   "execution_count": 29,
   "metadata": {
    "collapsed": false
   },
   "outputs": [
    {
     "name": "stdout",
     "output_type": "stream",
     "text": [
      "VRoooooommmmmm\n"
     ]
    }
   ],
   "source": [
    "mustang.make_car_sound()"
   ]
  },
  {
   "cell_type": "code",
   "execution_count": null,
   "metadata": {
    "collapsed": true
   },
   "outputs": [],
   "source": [
    "class Vehicle(object):\n",
    "    \n",
    "    @classmethod\n",
    "    def is_motorcycle(cls):\n",
    "        return cls.wheels == 2"
   ]
  },
  {
   "cell_type": "markdown",
   "metadata": {},
   "source": [
    "# Inheritence"
   ]
  },
  {
   "cell_type": "raw",
   "metadata": {},
   "source": [
    "class Car(object):\n",
    "    \n",
    "    def __init__(self, wheels, miles, make, model, year, sold_on):\n",
    "        self.wheels = wheels\n",
    "        self.miles = miles\n",
    "        self.make = make\n",
    "        self.model = model\n",
    "        self.year = year\n",
    "        self.sold_on = sold_on\n",
    "        \n",
    "    def sale_price(self):\n",
    "        if self.sold_on is not None:\n",
    "            return 0.0 #Already sold\n",
    "        return 5000.0 * self.wheels\n",
    "    \n",
    "    def purchase_price(self):\n",
    "        if self.sold_on is None:\n",
    "            return 0.0 #Not yet sold\n",
    "        return 8000 - (.10 * self.miles)"
   ]
  },
  {
   "cell_type": "raw",
   "metadata": {},
   "source": [
    "class Truck(object):\n",
    "    \n",
    "    def __init__(self, wheels, miles, make, model, year, sold_on):\n",
    "        self.wheels = wheels\n",
    "        \n",
    "        self.miles = miles\n",
    "        self.make = make\n",
    "        self.model = model\n",
    "        self.year = year\n",
    "        self.sold_on = sold_on\n",
    "        \n",
    "    def sale_price(self):\n",
    "        if self.sold_on is not None:\n",
    "            return 0.0  #Already sold\n",
    "        return 5000.0 * self.wheels\n",
    "    \n",
    "    def purchase_price(self):\n",
    "        if self.sold_on is None:\n",
    "            return 0.0 #Not yet sold\n",
    "        return 10000 - (.10 * self.miles)"
   ]
  },
  {
   "cell_type": "raw",
   "metadata": {},
   "source": [
    "class Vehicle(object):\n",
    "    \n",
    "    base_sale_price = 0\n",
    "    \n",
    "    def __init__(self, wheels, miles, make, model, year, sold_on):\n",
    "        \n",
    "        self.wheels = wheels\n",
    "        self.miles = miles\n",
    "        self.make = make\n",
    "        self.model = model\n",
    "        self.year = year\n",
    "        self.sold_on = sold_on\n",
    "        \n",
    "    def sale_price(self):\n",
    "        \n",
    "        if self.sold_on is not None:\n",
    "            return 0.0 #Already sold\n",
    "        return 5000.0 * self.wheels\n",
    "    \n",
    "    def purchase_price(self):\n",
    "        \n",
    "        if self.sold_on is None:\n",
    "            return 0.0 #Not yet sold\n",
    "        return self.base_sale_price - (.10 * self.miles)\n",
    "        "
   ]
  },
  {
   "cell_type": "markdown",
   "metadata": {},
   "source": [
    "class Car(Vehicle):\n",
    "    \n",
    "    def __init__(self, wheels, miles, make, model, year, sold_on):\n",
    "        self.wheels = wheels\n",
    "        self.miles = miles\n",
    "        self.make = make\n",
    "        self.model = model\n",
    "        self.year = year\n",
    "        self.sold_on = sold_on\n",
    "        self.base_sale_price = 8000\n",
    "        \n",
    "class Truck(Vehicle):\n",
    "    \n",
    "    def __init__(self, wheels, miles, make, model, year, sold_on):\n",
    "        self.wheels = wheels\n",
    "        self.miles = miles\n",
    "        self.make = make\n",
    "        self.model = model\n",
    "        self.year = year\n",
    "        self.sold_on = sold_on\n",
    "        self.base_sale_price = 10000"
   ]
  },
  {
   "cell_type": "markdown",
   "metadata": {},
   "source": [
    "v = Vehicle(4, 0, \"Honda\", \"Accord\", 2014, None)"
   ]
  },
  {
   "cell_type": "markdown",
   "metadata": {},
   "source": [
    "print v.purchase_price()"
   ]
  },
  {
   "cell_type": "code",
   "execution_count": 5,
   "metadata": {
    "collapsed": false
   },
   "outputs": [],
   "source": [
    "from abc import ABCMeta, abstractmethod\n",
    "class Vehicle(object):\n",
    "    \n",
    "    __metaclass__ = ABCMeta\n",
    "    \n",
    "    base_sale_price = 0\n",
    "    wheels = 0\n",
    "    \n",
    "    def __init__(self, miles, make, model, year, sold_on):\n",
    "        self.miles = miles\n",
    "        self.make = make\n",
    "        self.model = model\n",
    "        self.year = year\n",
    "        self.sold_on = sold_on\n",
    "        \n",
    "    def sale_price(self):\n",
    "        if self.sold_on is not None:\n",
    "            return 0.0 # Already sold\n",
    "        return 5000.0 * self.wheels\n",
    "    \n",
    "    def purchase_price(self):\n",
    "        if self.sold_on is None:\n",
    "            return 0.0 # Not yet sold\n",
    "        return self.base_sale_price - (.10 * self.miles)\n",
    "    \n",
    "    @abstractmethod\n",
    "    def vehicle_type(self):\n",
    "        \"\"\"Return a string representing the type of vehicle this is\"\"\"\n",
    "        pass"
   ]
  },
  {
   "cell_type": "code",
   "execution_count": 6,
   "metadata": {
    "collapsed": false
   },
   "outputs": [],
   "source": [
    "class Car(Vehicle):\n",
    "    \n",
    "    base_sale_price = 8000\n",
    "    wheels = 4\n",
    "    \n",
    "    def vehicle_type(self):\n",
    "        return \"car\""
   ]
  },
  {
   "cell_type": "code",
   "execution_count": 7,
   "metadata": {
    "collapsed": true
   },
   "outputs": [],
   "source": [
    "class Truck(Vehicle):\n",
    "    \n",
    "    base_sale_price = 10000\n",
    "    wheels = 4\n",
    "    \n",
    "    def vehicle_type(self):\n",
    "        return \"truck\""
   ]
  },
  {
   "cell_type": "code",
   "execution_count": 8,
   "metadata": {
    "collapsed": true
   },
   "outputs": [],
   "source": [
    "class Motocycle(Vehicle):\n",
    "    \n",
    "    base_sell_price = 4000\n",
    "    wheels = 2\n",
    "    \n",
    "    def vehicle_type(self):\n",
    "        return \"motocycle\""
   ]
  },
  {
   "cell_type": "code",
   "execution_count": 14,
   "metadata": {
    "collapsed": true
   },
   "outputs": [],
   "source": [
    "c1 = Car(20000, \"Honda\", \"Civic\", 2010, 2010)"
   ]
  },
  {
   "cell_type": "code",
   "execution_count": 10,
   "metadata": {
    "collapsed": false
   },
   "outputs": [
    {
     "data": {
      "text/plain": [
       "20000.0"
      ]
     },
     "execution_count": 10,
     "metadata": {},
     "output_type": "execute_result"
    }
   ],
   "source": [
    "c1.sale_price()"
   ]
  },
  {
   "cell_type": "code",
   "execution_count": 11,
   "metadata": {
    "collapsed": false
   },
   "outputs": [
    {
     "data": {
      "text/plain": [
       "20000.0"
      ]
     },
     "execution_count": 11,
     "metadata": {},
     "output_type": "execute_result"
    }
   ],
   "source": [
    "c1.sale_price()"
   ]
  },
  {
   "cell_type": "code",
   "execution_count": 15,
   "metadata": {
    "collapsed": false
   },
   "outputs": [
    {
     "data": {
      "text/plain": [
       "6000.0"
      ]
     },
     "execution_count": 15,
     "metadata": {},
     "output_type": "execute_result"
    }
   ],
   "source": [
    "c1.purchase_price()"
   ]
  },
  {
   "cell_type": "code",
   "execution_count": 16,
   "metadata": {
    "collapsed": false
   },
   "outputs": [
    {
     "data": {
      "text/plain": [
       "20000"
      ]
     },
     "execution_count": 16,
     "metadata": {},
     "output_type": "execute_result"
    }
   ],
   "source": [
    "c1.miles"
   ]
  },
  {
   "cell_type": "code",
   "execution_count": 17,
   "metadata": {
    "collapsed": false
   },
   "outputs": [
    {
     "data": {
      "text/plain": [
       "<bound method Car.vehicle_type of <__main__.Car object at 0x0000000003C5B668>>"
      ]
     },
     "execution_count": 17,
     "metadata": {},
     "output_type": "execute_result"
    }
   ],
   "source": [
    "c1.vehicle_type"
   ]
  },
  {
   "cell_type": "code",
   "execution_count": 18,
   "metadata": {
    "collapsed": false
   },
   "outputs": [
    {
     "name": "stdout",
     "output_type": "stream",
     "text": [
      "<bound method Car.vehicle_type of <__main__.Car object at 0x0000000003C5B668>>\n"
     ]
    }
   ],
   "source": [
    "print(c1.vehicle_type)"
   ]
  },
  {
   "cell_type": "code",
   "execution_count": 19,
   "metadata": {
    "collapsed": true
   },
   "outputs": [],
   "source": [
    "t1 = Truck(12000, \"MAN\", \"Desoto\", 1989, None)"
   ]
  },
  {
   "cell_type": "code",
   "execution_count": 20,
   "metadata": {
    "collapsed": false
   },
   "outputs": [
    {
     "data": {
      "text/plain": [
       "0.0"
      ]
     },
     "execution_count": 20,
     "metadata": {},
     "output_type": "execute_result"
    }
   ],
   "source": [
    "t1.purchase_price()"
   ]
  },
  {
   "cell_type": "code",
   "execution_count": 21,
   "metadata": {
    "collapsed": false
   },
   "outputs": [
    {
     "data": {
      "text/plain": [
       "20000.0"
      ]
     },
     "execution_count": 21,
     "metadata": {},
     "output_type": "execute_result"
    }
   ],
   "source": [
    "t1.sale_price()"
   ]
  },
  {
   "cell_type": "code",
   "execution_count": 22,
   "metadata": {
    "collapsed": false
   },
   "outputs": [
    {
     "data": {
      "text/plain": [
       "10000"
      ]
     },
     "execution_count": 22,
     "metadata": {},
     "output_type": "execute_result"
    }
   ],
   "source": [
    "t1.base_sale_price"
   ]
  },
  {
   "cell_type": "code",
   "execution_count": null,
   "metadata": {
    "collapsed": true
   },
   "outputs": [],
   "source": []
  }
 ],
 "metadata": {
  "kernelspec": {
   "display_name": "Python 2",
   "language": "python",
   "name": "python2"
  },
  "language_info": {
   "codemirror_mode": {
    "name": "ipython",
    "version": 2
   },
   "file_extension": ".py",
   "mimetype": "text/x-python",
   "name": "python",
   "nbconvert_exporter": "python",
   "pygments_lexer": "ipython2",
   "version": "2.7.11"
  }
 },
 "nbformat": 4,
 "nbformat_minor": 0
}
