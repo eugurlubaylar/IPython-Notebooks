{
 "cells": [
  {
   "cell_type": "code",
   "execution_count": 28,
   "metadata": {
    "collapsed": false
   },
   "outputs": [
    {
     "name": "stdout",
     "output_type": "stream",
     "text": [
      "-8657810 -8096121 3691546 -9921631 -4924870 3604191 3751145 6606012 2882573 -3970519 3357416 -8490004 -7906440 -9914095 -9375877 -7382040 793407 -5515047 -7713766 -9458145 -2638637 -4283984 1918658 -7677972 "
     ]
    }
   ],
   "source": [
    "num_list = [-8657810, 169285, -7334414, -8096121, 3691546, 4198668, 7764394, -9921631, -1907118, -4924870, 3604191, \n",
    "            5659607, 8354653, 3751145, 7337048, 6606012, 2882573, 9336168, 182434, -3970519, 3357416, 8887449, -2793198,\n",
    "            -8490004, -1302045, -7906440, -9914095, -2748889, -8724229, -9375877, 5584719, -7382040, 793407, 8250305,\n",
    "            -5478161, -5515047, 2448973, -7713766, -5436678, -9458145, -2638637, 8167513, 6201462, -4283984, 1918658,\n",
    "            3538510, -7677972, -5198769]\n",
    "\n",
    "num_listA = []\n",
    "num_listB = []\n",
    "\n",
    "for i in range(0, 48):\n",
    "    if i % 2 == 0:\n",
    "        num_listA.append(num_list[i])\n",
    "    else:\n",
    "        num_listB.append(num_list[i])\n",
    "fn = lambda x, y : x if x < y else y\n",
    "low_list = map(fn, num_listA, num_listB)\n",
    "for num in low_list:\n",
    "    print(num, end = \" \")"
   ]
  },
  {
   "cell_type": "code",
   "execution_count": 1,
   "metadata": {
    "collapsed": false
   },
   "outputs": [],
   "source": [
    "num_list = [1288530, -8527881, -7467535,\n",
    "8813966, -4717788, -2655008,\n",
    "-5753295, -4674715, 8955323,\n",
    "-1207516, 9520660, -7590876,\n",
    "-9826418, 2378578, -8508188,\n",
    "5171911, -818818, 8953128,\n",
    "-3278834, 4231830, 1791297,\n",
    "-8120642, -7354035, -1624195,\n",
    "6492923, -8418769, 3979122,\n",
    "2266466, -4312026, 9914197,\n",
    "887294, 6976503, -8613684,\n",
    "3419758, 5790470, -3331472,\n",
    "-9235249, -9962824, 1993812,\n",
    "9720073, -1170341, 1514473,\n",
    "-7870802, -996759, -6106949,\n",
    "-6378991, -5824847, 3074233,\n",
    "-7425863, 896318, -2693937,\n",
    "4365433, 2775675, -47972,\n",
    "-7258762, -731402, 1533258,\n",
    "6720360, -8464936, 7221232,\n",
    "6634557, 2422358, 4197736,\n",
    "8020873, -4157884, -11793,\n",
    "-5310599, -3393133, 25382,\n",
    "6683212, -3673060, 8855041,\n",
    "-1802314, -1543863, -2141717,\n",
    "2090736, 2077146, 2033435,\n",
    "-4835030, 4651282, -7070247,\n",
    "2471032, -983285, 5705428,\n",
    "-7576940, 1757953, -5025974,\n",
    "3956318, -1521687, -3490910]"
   ]
  },
  {
   "cell_type": "code",
   "execution_count": 2,
   "metadata": {
    "collapsed": true
   },
   "outputs": [],
   "source": [
    "listA = num_list[0::3]\n",
    "listB = num_list[1::3]\n",
    "listC = num_list[2::3]"
   ]
  },
  {
   "cell_type": "code",
   "execution_count": 3,
   "metadata": {
    "collapsed": false
   },
   "outputs": [],
   "source": [
    "fn = lambda x, y, z : min(x, y, z)"
   ]
  },
  {
   "cell_type": "code",
   "execution_count": 4,
   "metadata": {
    "collapsed": false
   },
   "outputs": [],
   "source": [
    "\n",
    "low_list = map(fn, listA, listB, listC)"
   ]
  },
  {
   "cell_type": "code",
   "execution_count": 5,
   "metadata": {
    "collapsed": false
   },
   "outputs": [
    {
     "name": "stdout",
     "output_type": "stream",
     "text": [
      "-8527881 -4717788 -5753295 -7590876 -9826418 -818818 -3278834 -8120642 -8418769 -4312026 -8613684 -3331472 -9962824 -1170341 -7870802 -6378991 -7425863 -47972 -7258762 -8464936 2422358 -4157884 -5310599 -3673060 -2141717 2033435 -7070247 -983285 -7576940 -3490910 "
     ]
    }
   ],
   "source": [
    "for num in low_list:\n",
    "    print(num, end = \" \")"
   ]
  },
  {
   "cell_type": "code",
   "execution_count": 6,
   "metadata": {
    "collapsed": false
   },
   "outputs": [
    {
     "name": "stdout",
     "output_type": "stream",
     "text": [
      "6675782 4729417 5449087 4115981 -1461794 -7309254 6859175 7384340 -5528841 6260040 -680361 3549422 -7923684 1590397 8039523 7897873 -5603085 8778229 9550298 7369791 7026569 -130334 5069011 644569 2598741 9394181 -2185592 -6296445 -8350922 2546034 -85149 8324860 -2724548 -4636061 2440842 5813657 -1945316 -699983 3197998 2525842 -4439943 -7482363 -3924736 -2363627 4108034 -5885212 -4465754 8504949 -7106983 -4915455 5874740 9919586 4954210 943752 564156 -2447049 337933 8378563 1256506 1987011 924598 -8828642 311871 8200050 -3464704 -7247286 4013708 4589980 2052730\n"
     ]
    },
    {
     "ename": "ValueError",
     "evalue": "invalid literal for int() with base 10: '6675782 4729417 5449087 4115981 -1461794 -7309254 6859175 7384340 -5528841 6260040 -680361 3549422 -7923684 1590397 8039523 7897873 -5603085 8778229 9550298 7369791 7026569 -130334 5069011 644569 259",
     "output_type": "error",
     "traceback": [
      "\u001b[1;31m---------------------------------------------------------------------------\u001b[0m",
      "\u001b[1;31mValueError\u001b[0m                                Traceback (most recent call last)",
      "\u001b[1;32m<ipython-input-6-d251c4b338ff>\u001b[0m in \u001b[0;36m<module>\u001b[1;34m()\u001b[0m\n\u001b[1;32m----> 1\u001b[1;33m \u001b[0mn\u001b[0m \u001b[1;33m=\u001b[0m \u001b[0mint\u001b[0m\u001b[1;33m(\u001b[0m\u001b[0minput\u001b[0m\u001b[1;33m(\u001b[0m\u001b[1;33m)\u001b[0m\u001b[1;33m)\u001b[0m\u001b[1;33m\u001b[0m\u001b[0m\n\u001b[0m\u001b[0;32m      2\u001b[0m \u001b[1;32mfor\u001b[0m \u001b[0mi\u001b[0m \u001b[1;32min\u001b[0m \u001b[0mrange\u001b[0m\u001b[1;33m(\u001b[0m\u001b[1;36m0\u001b[0m\u001b[1;33m,\u001b[0m \u001b[0mn\u001b[0m\u001b[1;33m)\u001b[0m\u001b[1;33m:\u001b[0m\u001b[1;33m\u001b[0m\u001b[0m\n\u001b[0;32m      3\u001b[0m     \u001b[0mnumbers\u001b[0m \u001b[1;33m=\u001b[0m \u001b[0minput\u001b[0m\u001b[1;33m(\u001b[0m\u001b[1;33m)\u001b[0m\u001b[1;33m.\u001b[0m\u001b[0msplit\u001b[0m\u001b[1;33m(\u001b[0m\u001b[1;33m)\u001b[0m\u001b[1;33m\u001b[0m\u001b[0m\n\u001b[0;32m      4\u001b[0m     \u001b[1;32mif\u001b[0m \u001b[0mint\u001b[0m\u001b[1;33m(\u001b[0m\u001b[0mnumbers\u001b[0m\u001b[1;33m[\u001b[0m\u001b[1;36m0\u001b[0m\u001b[1;33m]\u001b[0m\u001b[1;33m)\u001b[0m \u001b[1;33m<\u001b[0m \u001b[0mint\u001b[0m\u001b[1;33m(\u001b[0m\u001b[0mnumbers\u001b[0m\u001b[1;33m[\u001b[0m\u001b[1;36m1\u001b[0m\u001b[1;33m]\u001b[0m\u001b[1;33m)\u001b[0m\u001b[1;33m:\u001b[0m\u001b[1;33m\u001b[0m\u001b[0m\n\u001b[0;32m      5\u001b[0m         \u001b[1;32mif\u001b[0m \u001b[0mint\u001b[0m\u001b[1;33m(\u001b[0m\u001b[0mnumbers\u001b[0m\u001b[1;33m[\u001b[0m\u001b[1;36m0\u001b[0m\u001b[1;33m]\u001b[0m\u001b[1;33m)\u001b[0m \u001b[1;33m<\u001b[0m \u001b[0mint\u001b[0m\u001b[1;33m(\u001b[0m\u001b[0mnumbers\u001b[0m\u001b[1;33m[\u001b[0m\u001b[1;36m2\u001b[0m\u001b[1;33m]\u001b[0m\u001b[1;33m)\u001b[0m\u001b[1;33m:\u001b[0m\u001b[1;33m\u001b[0m\u001b[0m\n",
      "\u001b[1;31mValueError\u001b[0m: invalid literal for int() with base 10: '6675782 4729417 5449087 4115981 -1461794 -7309254 6859175 7384340 -5528841 6260040 -680361 3549422 -7923684 1590397 8039523 7897873 -5603085 8778229 9550298 7369791 7026569 -130334 5069011 644569 259"
     ]
    }
   ],
   "source": [
    "n = int(input())\n",
    "for i in range(0, n):\n",
    "    numbers = input().split()\n",
    "    if int(numbers[0]) < int(numbers[1]):\n",
    "        if int(numbers[0]) < int(numbers[2]):\n",
    "            print(int(numbers[0]), \"\")\n",
    "        else:\n",
    "            print(int(numbers[2]), \"\")\n",
    "    else:\n",
    "        if int(numbers[1]) < int(numbers[2]):\n",
    "            print(int(numbers[1]), \"\")\n",
    "        else:\n",
    "            print(int(numbers[2]), \"\")"
   ]
  },
  {
   "cell_type": "code",
   "execution_count": null,
   "metadata": {
    "collapsed": true
   },
   "outputs": [],
   "source": []
  }
 ],
 "metadata": {
  "kernelspec": {
   "display_name": "Python 3",
   "language": "python",
   "name": "python3"
  },
  "language_info": {
   "codemirror_mode": {
    "name": "ipython",
    "version": 3
   },
   "file_extension": ".py",
   "mimetype": "text/x-python",
   "name": "python",
   "nbconvert_exporter": "python",
   "pygments_lexer": "ipython3",
   "version": "3.5.1"
  }
 },
 "nbformat": 4,
 "nbformat_minor": 0
}
