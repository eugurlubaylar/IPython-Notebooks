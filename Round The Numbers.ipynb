{
 "cells": [
  {
   "cell_type": "code",
   "execution_count": 33,
   "metadata": {
    "collapsed": true
   },
   "outputs": [],
   "source": [
    "list = \"\"\"4929 568 \n",
    "5044351 -232048 \n",
    "5154409 82 \n",
    "8549027 373 \n",
    "4958215 -552550 \n",
    "-1878603 180513 \n",
    "6942832 713 \n",
    "118582 -1271894\n",
    "9369 662\n",
    "19549 1000\n",
    "7755905 -670333\n",
    "-2641237 -3148157\n",
    "6143439 647\n",
    "6163028 486\"\"\""
   ]
  },
  {
   "cell_type": "code",
   "execution_count": 34,
   "metadata": {
    "collapsed": false
   },
   "outputs": [],
   "source": [
    "nums = list.split()"
   ]
  },
  {
   "cell_type": "code",
   "execution_count": 35,
   "metadata": {
    "collapsed": false
   },
   "outputs": [
    {
     "data": {
      "text/plain": [
       "['4929',\n",
       " '568',\n",
       " '5044351',\n",
       " '-232048',\n",
       " '5154409',\n",
       " '82',\n",
       " '8549027',\n",
       " '373',\n",
       " '4958215',\n",
       " '-552550',\n",
       " '-1878603',\n",
       " '180513',\n",
       " '6942832',\n",
       " '713',\n",
       " '118582',\n",
       " '-1271894',\n",
       " '9369',\n",
       " '662',\n",
       " '19549',\n",
       " '1000',\n",
       " '7755905',\n",
       " '-670333',\n",
       " '-2641237',\n",
       " '-3148157',\n",
       " '6143439',\n",
       " '647',\n",
       " '6163028',\n",
       " '486']"
      ]
     },
     "execution_count": 35,
     "metadata": {},
     "output_type": "execute_result"
    }
   ],
   "source": [
    "nums"
   ]
  },
  {
   "cell_type": "code",
   "execution_count": 36,
   "metadata": {
    "collapsed": false
   },
   "outputs": [],
   "source": [
    "def roundNum(x, y):\n",
    "    return round(x / y)"
   ]
  },
  {
   "cell_type": "code",
   "execution_count": 38,
   "metadata": {
    "collapsed": false
   },
   "outputs": [
    {
     "name": "stdout",
     "output_type": "stream",
     "text": [
      "9 -22 62859 22920 -9 -10 9737 0 14 20 -12 1 9495 12681 "
     ]
    }
   ],
   "source": [
    "i = 0\n",
    "\n",
    "while i <28:\n",
    "    y = roundNum(int(nums[i]), int(nums[i + 1]))\n",
    "    print(y, end = \" \")\n",
    "    i += 2"
   ]
  },
  {
   "cell_type": "code",
   "execution_count": null,
   "metadata": {
    "collapsed": true
   },
   "outputs": [],
   "source": []
  }
 ],
 "metadata": {
  "kernelspec": {
   "display_name": "Python 3",
   "language": "python",
   "name": "python3"
  },
  "language_info": {
   "codemirror_mode": {
    "name": "ipython",
    "version": 3
   },
   "file_extension": ".py",
   "mimetype": "text/x-python",
   "name": "python",
   "nbconvert_exporter": "python",
   "pygments_lexer": "ipython3",
   "version": "3.5.1"
  }
 },
 "nbformat": 4,
 "nbformat_minor": 0
}
