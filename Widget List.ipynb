{
 "cells": [
  {
   "cell_type": "code",
   "execution_count": 1,
   "metadata": {
    "collapsed": false
   },
   "outputs": [
    {
     "data": {
      "text/plain": [
       "[ipywidgets.widgets.widget_string.Text,\n",
       " ipywidgets.widgets.widget_string.Latex,\n",
       " ipywidgets.widgets.widget_box.Box,\n",
       " ipywidgets.widgets.widget_controller.Axis,\n",
       " ipywidgets.widgets.widget_bool.Checkbox,\n",
       " ipywidgets.widgets.widget_int.IntRangeSlider,\n",
       " ipywidgets.widgets.widget_selection.RadioButtons,\n",
       " ipywidgets.widgets.widget_string.HTML,\n",
       " ipywidgets.widgets.widget_float.FloatRangeSlider,\n",
       " ipywidgets.widgets.widget_box.PlaceProxy,\n",
       " ipywidgets.widgets.widget_selection.ToggleButtons,\n",
       " ipywidgets.widgets.widget_int.IntText,\n",
       " ipywidgets.widgets.widget_selection.Dropdown,\n",
       " ipywidgets.widgets.widget_bool.Valid,\n",
       " ipywidgets.widgets.widget_bool.ToggleButton,\n",
       " ipywidgets.widgets.widget_float.FloatSlider,\n",
       " ipywidgets.widgets.widget_int.IntProgress,\n",
       " ipywidgets.widgets.widget_selection.SelectMultiple,\n",
       " ipywidgets.widgets.widget_float.FloatProgress,\n",
       " ipywidgets.widgets.widget_color.ColorPicker,\n",
       " ipywidgets.widgets.widget_box.FlexBox,\n",
       " ipywidgets.widgets.widget_string.Textarea,\n",
       " ipywidgets.widgets.widget_float.BoundedFloatText,\n",
       " ipywidgets.widgets.widget_controller.Button,\n",
       " ipywidgets.widgets.widget_selection.Select,\n",
       " ipywidgets.widgets.widget_selectioncontainer.Accordion,\n",
       " ipywidgets.widgets.widget_float.FloatText,\n",
       " ipywidgets.widgets.widget_image.Image,\n",
       " ipywidgets.widgets.widget_button.Button,\n",
       " ipywidgets.widgets.widget_int.BoundedIntText,\n",
       " ipywidgets.widgets.widget_box.Proxy,\n",
       " ipywidgets.widgets.widget_selectioncontainer.Tab,\n",
       " ipywidgets.widgets.widget_int.IntSlider,\n",
       " ipywidgets.widgets.widget_controller.Controller]"
      ]
     },
     "execution_count": 1,
     "metadata": {},
     "output_type": "execute_result"
    }
   ],
   "source": [
    "import ipywidgets as widgets\n",
    "\n",
    "widgets.Widget.widget_types.values()"
   ]
  },
  {
   "cell_type": "code",
   "execution_count": 3,
   "metadata": {
    "collapsed": true
   },
   "outputs": [],
   "source": [
    "widgets.FloatSlider(\n",
    "    value = 7.5,\n",
    "    min = 5.0,\n",
    "    max = 10.0,\n",
    "    step = 0.1,\n",
    "    description = \"Test\",\n",
    ")"
   ]
  },
  {
   "cell_type": "code",
   "execution_count": 5,
   "metadata": {
    "collapsed": true
   },
   "outputs": [],
   "source": [
    "widgets.FloatSlider(\n",
    "    value = 7.5,\n",
    "    min = 5.0,\n",
    "    max = 10.0,\n",
    "    step = 0.1,\n",
    "    description = \"Test\",\n",
    "    orientation = \"vertical\",\n",
    ")"
   ]
  },
  {
   "cell_type": "code",
   "execution_count": 6,
   "metadata": {
    "collapsed": true
   },
   "outputs": [],
   "source": [
    "widgets.FloatProgress(\n",
    "    value = 7.5,\n",
    "    min = 5.0,\n",
    "    max = 10.0,\n",
    "    step = 0.1,\n",
    "    description = \"Loading:\",\n",
    ")"
   ]
  },
  {
   "cell_type": "code",
   "execution_count": 8,
   "metadata": {
    "collapsed": false
   },
   "outputs": [],
   "source": [
    "widgets.BoundedFloatText(\n",
    "    value = 7.5,\n",
    "    min = 5.0,\n",
    "    max = 10.0,\n",
    "    description = \"Text:\",\n",
    ")"
   ]
  },
  {
   "cell_type": "code",
   "execution_count": 9,
   "metadata": {
    "collapsed": true
   },
   "outputs": [],
   "source": [
    "widgets.FloatText(\n",
    "    value = 7.5,\n",
    "    description = \"Any:\",\n",
    ")"
   ]
  },
  {
   "cell_type": "code",
   "execution_count": 10,
   "metadata": {
    "collapsed": true
   },
   "outputs": [],
   "source": [
    "widgets.ToggleButton(\n",
    "    description = \"Click me\",\n",
    "    value = False,\n",
    ")"
   ]
  },
  {
   "cell_type": "code",
   "execution_count": 11,
   "metadata": {
    "collapsed": true
   },
   "outputs": [],
   "source": [
    "widgets.Checkbox(\n",
    "    description = \"Check me\",\n",
    "    value = True,\n",
    ")"
   ]
  },
  {
   "cell_type": "code",
   "execution_count": 12,
   "metadata": {
    "collapsed": true
   },
   "outputs": [],
   "source": [
    "widgets.Valid(\n",
    "    value = True,\n",
    ")"
   ]
  },
  {
   "cell_type": "code",
   "execution_count": 14,
   "metadata": {
    "collapsed": false
   },
   "outputs": [],
   "source": [
    "from IPython.display import display\n",
    "\n",
    "w = widgets.Dropdown(\n",
    "    options = [\"1\", \"2\", \"3\"],\n",
    "    value = \"2\",\n",
    "    description = \"Number:\",\n",
    ")\n",
    "display(w)"
   ]
  },
  {
   "cell_type": "code",
   "execution_count": 16,
   "metadata": {
    "collapsed": false
   },
   "outputs": [
    {
     "data": {
      "text/plain": [
       "'1'"
      ]
     },
     "execution_count": 16,
     "metadata": {},
     "output_type": "execute_result"
    }
   ],
   "source": [
    "w.value"
   ]
  },
  {
   "cell_type": "code",
   "execution_count": 18,
   "metadata": {
    "collapsed": false
   },
   "outputs": [],
   "source": [
    "w = widgets.Dropdown(\n",
    "    options = {\"One\":1, \"Two\":2, \"Three\":3},\n",
    "    value = 2,\n",
    "    description = \"Number:\",\n",
    ")\n",
    "display(w)"
   ]
  },
  {
   "cell_type": "code",
   "execution_count": 19,
   "metadata": {
    "collapsed": false
   },
   "outputs": [
    {
     "data": {
      "text/plain": [
       "1"
      ]
     },
     "execution_count": 19,
     "metadata": {},
     "output_type": "execute_result"
    }
   ],
   "source": [
    "w.value"
   ]
  },
  {
   "cell_type": "code",
   "execution_count": 20,
   "metadata": {
    "collapsed": true
   },
   "outputs": [],
   "source": [
    "widgets.RadioButtons(\n",
    "    description = \"Pizza topping:\",\n",
    "    options = [\"pepperoni\", \"pineapple\", \"anchovies\"],\n",
    ")"
   ]
  },
  {
   "cell_type": "code",
   "execution_count": 21,
   "metadata": {
    "collapsed": true
   },
   "outputs": [],
   "source": [
    "widgets.Select(\n",
    "    description = \"OS:\",\n",
    "    options = [\"Linux\", \"Windows\", \"OSX\"],\n",
    ")"
   ]
  },
  {
   "cell_type": "code",
   "execution_count": 23,
   "metadata": {
    "collapsed": false
   },
   "outputs": [],
   "source": [
    "widgets.ToggleButtons(\n",
    "    description = \"Speed:\",\n",
    "    options = [\"Slow\", \"Regular\", \"Fast\"],\n",
    ")"
   ]
  },
  {
   "cell_type": "code",
   "execution_count": 24,
   "metadata": {
    "collapsed": true
   },
   "outputs": [],
   "source": [
    "w = widgets.SelectMultiple(\n",
    "    description = \"Fruits\",\n",
    "    options = [\"Apples\", \"Oranges\", \"Pears\"])\n",
    "\n",
    "display(w)"
   ]
  },
  {
   "cell_type": "code",
   "execution_count": 26,
   "metadata": {
    "collapsed": false
   },
   "outputs": [
    {
     "data": {
      "text/plain": [
       "('Apples', 'Oranges', 'Pears')"
      ]
     },
     "execution_count": 26,
     "metadata": {},
     "output_type": "execute_result"
    }
   ],
   "source": [
    "w.value"
   ]
  },
  {
   "cell_type": "code",
   "execution_count": 27,
   "metadata": {
    "collapsed": true
   },
   "outputs": [],
   "source": [
    "widgets.Text(\n",
    "    description = \"String:\",\n",
    "    value = \"Hello World\",\n",
    ")"
   ]
  },
  {
   "cell_type": "code",
   "execution_count": 28,
   "metadata": {
    "collapsed": true
   },
   "outputs": [],
   "source": [
    "widgets.Textarea(\n",
    "    description = \"String\",\n",
    "    value = \"Hello World\",)"
   ]
  },
  {
   "cell_type": "code",
   "execution_count": 30,
   "metadata": {
    "collapsed": false
   },
   "outputs": [],
   "source": [
    "widgets.Latex(\n",
    "    value = \"$$\\\\frac{n!}{k!(n - k)!}$$\",\n",
    ")"
   ]
  },
  {
   "cell_type": "code",
   "execution_count": 34,
   "metadata": {
    "collapsed": true
   },
   "outputs": [],
   "source": [
    "widgets.HTML(\n",
    "    value = \"Hello <b>World</b>\",\n",
    ")"
   ]
  },
  {
   "cell_type": "code",
   "execution_count": 33,
   "metadata": {
    "collapsed": true
   },
   "outputs": [],
   "source": [
    "widgets.Button(description = \"Click me\")"
   ]
  },
  {
   "cell_type": "code",
   "execution_count": 35,
   "metadata": {
    "collapsed": true
   },
   "outputs": [],
   "source": [
    "import ipywidgets as widgets\n",
    "from IPython.display import display"
   ]
  },
  {
   "cell_type": "code",
   "execution_count": 36,
   "metadata": {
    "collapsed": true
   },
   "outputs": [],
   "source": [
    "button = widgets.Button(\n",
    "    description = \"Hello World!\",\n",
    "    width = 100,\n",
    "    height = \"2em\",\n",
    "    color = \"lime\",\n",
    "    background_color = \"#0022FF\",\n",
    "    border_color = \"cyan\")\n",
    "display(button)"
   ]
  },
  {
   "cell_type": "code",
   "execution_count": null,
   "metadata": {
    "collapsed": true
   },
   "outputs": [],
   "source": []
  }
 ],
 "metadata": {
  "kernelspec": {
   "display_name": "Python 2",
   "language": "python",
   "name": "python2"
  },
  "language_info": {
   "codemirror_mode": {
    "name": "ipython",
    "version": 2
   },
   "file_extension": ".py",
   "mimetype": "text/x-python",
   "name": "python",
   "nbconvert_exporter": "python",
   "pygments_lexer": "ipython2",
   "version": "2.7.11"
  }
 },
 "nbformat": 4,
 "nbformat_minor": 0
}
