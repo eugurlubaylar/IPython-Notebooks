{
 "cells": [
  {
   "cell_type": "code",
   "execution_count": 2,
   "metadata": {
    "collapsed": false
   },
   "outputs": [],
   "source": [
    "import ipywidgets as widgets\n",
    "from IPython.display import display"
   ]
  },
  {
   "cell_type": "code",
   "execution_count": 3,
   "metadata": {
    "collapsed": true
   },
   "outputs": [],
   "source": [
    "button = widgets.Button(\n",
    "    description = \"Hello World!\",\n",
    "    width = 100,\n",
    "    height = \"2em\",\n",
    "    color = \"lime\",\n",
    "    background_color = \"#0022FF\",\n",
    "    border_color = \"cyan\")\n",
    "display(button)"
   ]
  },
  {
   "cell_type": "code",
   "execution_count": 7,
   "metadata": {
    "collapsed": false
   },
   "outputs": [],
   "source": [
    "from IPython.display import display\n",
    "\n",
    "float_range = widgets.FloatSlider()\n",
    "string = widgets.Text(value = \"hi\")\n",
    "container = widgets.Box(children = [string, float_range])\n",
    "\n",
    "container.border_color = \"red\"\n",
    "container.border_style = \"dotted\"\n",
    "container.border_width = 5\n",
    "display(container)"
   ]
  },
  {
   "cell_type": "code",
   "execution_count": 9,
   "metadata": {
    "collapsed": true
   },
   "outputs": [],
   "source": [
    "container = widgets.Box()\n",
    "container.border_color = \"red\"\n",
    "container.border_style = \"dotted\"\n",
    "container.border_width = 3\n",
    "display(container)\n",
    "\n",
    "int_range = widgets.IntSlider()\n",
    "container.children = [int_range]"
   ]
  },
  {
   "cell_type": "code",
   "execution_count": 10,
   "metadata": {
    "collapsed": true
   },
   "outputs": [],
   "source": [
    "name1 = widgets.Text(description = \"Location: \")\n",
    "zip1 = widgets.BoundedIntText(description = \"Zip\", min = 0, max = 99999)\n",
    "page1 = widgets.Box(children = [name1, zip1])\n",
    "\n",
    "name2 = widgets.Text(description = \"Location: \")\n",
    "zip2 = widgets.BoundedIntText(description = \"Zip\", min = 0, max = 99999)\n",
    "page2 = widgets.Box(children = [name2, zip2])\n",
    "\n",
    "accord = widgets.Accordion(children = [page1, page2], width = 400)\n",
    "display(accord)\n",
    "\n",
    "accord.set_title(0, \"From\")\n",
    "accord.set_title(1, \"To\")\n",
    "                 "
   ]
  },
  {
   "cell_type": "code",
   "execution_count": 12,
   "metadata": {
    "collapsed": false
   },
   "outputs": [],
   "source": [
    "name = widgets.Text(description = \"Name\", padding = 4)\n",
    "color = widgets.Dropdown(description = \"Color: \", padding = 4,\n",
    "        options = [\"red\", \"orange\", \"yellow\", \"green\", \"blue\", \"Indigo\", \"violet\"])\n",
    "page1 = widgets.Box(children = [name, color], padding = 4)\n",
    "\n",
    "age = widgets.IntSlider(description = \"Age\", padding = 4, min = 0, max = 120, value = 50)\n",
    "gender = widgets.RadioButtons(description = \"Gender\", padding = 4,\n",
    "        options = [\"male\", \"female\"])\n",
    "\n",
    "page2 = widgets.Box(children = [age, gender], padding = 4)\n",
    "\n",
    "tabs = widgets.Tab(children = [page1, page2])\n",
    "display(tabs)\n",
    "\n",
    "tabs.set_title(0, \"Name\")\n",
    "tabs.set_title(1, \"Details\")\n",
    "\n"
   ]
  },
  {
   "cell_type": "code",
   "execution_count": 13,
   "metadata": {
    "collapsed": true
   },
   "outputs": [],
   "source": [
    "display(widgets.Text(description = \"a:\"))\n",
    "display(widgets.Text(description = \"aa:\"))\n",
    "display(widgets.Text(description = \"aaa\"))"
   ]
  },
  {
   "cell_type": "code",
   "execution_count": 20,
   "metadata": {
    "collapsed": true
   },
   "outputs": [],
   "source": [
    "display(widgets.Text(description = \"a:\"))\n",
    "display(widgets.Text(description = \"aa:\"))\n",
    "display(widgets.Text(description = \"aaa:\"))\n",
    "display(widgets.Text(description = \"aaaaaa:\"))"
   ]
  },
  {
   "cell_type": "code",
   "execution_count": 21,
   "metadata": {
    "collapsed": true
   },
   "outputs": [],
   "source": [
    "buttons = [widgets.Button(description = str(i)) for i in range(3)]\n",
    "display(*buttons)"
   ]
  },
  {
   "cell_type": "code",
   "execution_count": 22,
   "metadata": {
    "collapsed": true
   },
   "outputs": [],
   "source": [
    "container = widgets.HBox(children = buttons)\n",
    "display(container)"
   ]
  },
  {
   "cell_type": "code",
   "execution_count": 23,
   "metadata": {
    "collapsed": true
   },
   "outputs": [],
   "source": [
    "w1 = widgets.Latex(value = \"First line\")\n",
    "w2 = widgets.Latex(value = \"Second line\")\n",
    "w3 = widgets.Latex(value = \"Third line\")\n",
    "display(w1, w2, w3)"
   ]
  },
  {
   "cell_type": "code",
   "execution_count": 24,
   "metadata": {
    "collapsed": true
   },
   "outputs": [],
   "source": [
    "w2.visible = None"
   ]
  },
  {
   "cell_type": "code",
   "execution_count": 25,
   "metadata": {
    "collapsed": true
   },
   "outputs": [],
   "source": [
    "w2.visible = False"
   ]
  },
  {
   "cell_type": "code",
   "execution_count": 26,
   "metadata": {
    "collapsed": true
   },
   "outputs": [],
   "source": [
    "w2.visible = True"
   ]
  },
  {
   "cell_type": "code",
   "execution_count": 30,
   "metadata": {
    "collapsed": false
   },
   "outputs": [
    {
     "name": "stderr",
     "output_type": "stream",
     "text": [
      "C:\\Users\\Erdem\\Anaconda2\\envs\\python2\\lib\\site-packages\\ipykernel\\__main__.py:21: DeprecationWarning: on_trait_change is deprecated: use observe instead\n"
     ]
    }
   ],
   "source": [
    "form = widgets.VBox()\n",
    "first = widgets.Text(description = \"First:\")\n",
    "last = widgets.Text(description = \"Last:\")\n",
    "\n",
    "student = widgets.Checkbox(description = \"Student:\", value = False)\n",
    "school_info = widgets.VBox(visible = False, children = [\n",
    "        widgets.Text(description = \"School:\"),\n",
    "        widgets.IntText(description = \"Grade:\", min = 0, max = 12)\n",
    "    ])\n",
    "\n",
    "pet = widgets.Text(description = \"Pet:\")\n",
    "form.children = [first, last, student, school_info, pet]\n",
    "display(form)\n",
    "\n",
    "def on_student_toggle(name, value):\n",
    "    if value:\n",
    "        school_info.visible = True\n",
    "    else:\n",
    "        school_info.visible = False\n",
    "        \n",
    "student.on_trait_change(on_student_toggle, \"value\")"
   ]
  },
  {
   "cell_type": "code",
   "execution_count": null,
   "metadata": {
    "collapsed": true
   },
   "outputs": [],
   "source": []
  }
 ],
 "metadata": {
  "kernelspec": {
   "display_name": "Python 2",
   "language": "python",
   "name": "python2"
  },
  "language_info": {
   "codemirror_mode": {
    "name": "ipython",
    "version": 2
   },
   "file_extension": ".py",
   "mimetype": "text/x-python",
   "name": "python",
   "nbconvert_exporter": "python",
   "pygments_lexer": "ipython2",
   "version": "2.7.11"
  }
 },
 "nbformat": 4,
 "nbformat_minor": 0
}
